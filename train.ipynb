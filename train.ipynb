{
  "nbformat": 4,
  "nbformat_minor": 0,
  "metadata": {
    "colab": {
      "name": "vggface-3.ipynb",
      "version": "0.3.2",
      "provenance": [],
      "collapsed_sections": []
    },
    "kernelspec": {
      "name": "python3",
      "display_name": "Python 3"
    },
    "accelerator": "GPU"
  },
  "cells": [
    {
      "cell_type": "code",
      "metadata": {
        "id": "Oeq-JcSULWN4",
        "colab_type": "code",
        "outputId": "72966995-812e-4ea7-81ca-06d049df5f18",
        "colab": {
          "base_uri": "https://localhost:8080/",
          "height": 122
        }
      },
      "source": [
        "from google.colab import drive\n",
        "drive.mount('/content/drive')"
      ],
      "execution_count": 0,
      "outputs": [
        {
          "output_type": "stream",
          "text": [
            "Go to this URL in a browser: https://accounts.google.com/o/oauth2/auth?client_id=947318989803-6bn6qk8qdgf4n4g3pfee6491hc0brc4i.apps.googleusercontent.com&redirect_uri=urn%3Aietf%3Awg%3Aoauth%3A2.0%3Aoob&scope=email%20https%3A%2F%2Fwww.googleapis.com%2Fauth%2Fdocs.test%20https%3A%2F%2Fwww.googleapis.com%2Fauth%2Fdrive%20https%3A%2F%2Fwww.googleapis.com%2Fauth%2Fdrive.photos.readonly%20https%3A%2F%2Fwww.googleapis.com%2Fauth%2Fpeopleapi.readonly&response_type=code\n",
            "\n",
            "Enter your authorization code:\n",
            "··········\n",
            "Mounted at /content/drive\n"
          ],
          "name": "stdout"
        }
      ]
    },
    {
      "cell_type": "code",
      "metadata": {
        "id": "d_Ga0RLvMGBC",
        "colab_type": "code",
        "outputId": "c25820e6-5450-4193-a146-02efaf9b8d8d",
        "colab": {
          "base_uri": "https://localhost:8080/",
          "height": 377
        }
      },
      "source": [
        "#vggface\n",
        "!pip install git+https://github.com/rcmalli/keras-vggface.git"
      ],
      "execution_count": 0,
      "outputs": [
        {
          "output_type": "stream",
          "text": [
            "Collecting git+https://github.com/rcmalli/keras-vggface.git\n",
            "  Cloning https://github.com/rcmalli/keras-vggface.git to /tmp/pip-req-build-l7l2iu3f\n",
            "  Running command git clone -q https://github.com/rcmalli/keras-vggface.git /tmp/pip-req-build-l7l2iu3f\n",
            "Requirement already satisfied: numpy>=1.9.1 in /usr/local/lib/python3.6/dist-packages (from keras-vggface==0.6) (1.16.4)\n",
            "Requirement already satisfied: scipy>=0.14 in /usr/local/lib/python3.6/dist-packages (from keras-vggface==0.6) (1.3.0)\n",
            "Requirement already satisfied: h5py in /usr/local/lib/python3.6/dist-packages (from keras-vggface==0.6) (2.8.0)\n",
            "Requirement already satisfied: pillow in /usr/local/lib/python3.6/dist-packages (from keras-vggface==0.6) (4.3.0)\n",
            "Requirement already satisfied: keras in /usr/local/lib/python3.6/dist-packages (from keras-vggface==0.6) (2.2.4)\n",
            "Requirement already satisfied: six>=1.9.0 in /usr/local/lib/python3.6/dist-packages (from keras-vggface==0.6) (1.12.0)\n",
            "Requirement already satisfied: pyyaml in /usr/local/lib/python3.6/dist-packages (from keras-vggface==0.6) (3.13)\n",
            "Requirement already satisfied: olefile in /usr/local/lib/python3.6/dist-packages (from pillow->keras-vggface==0.6) (0.46)\n",
            "Requirement already satisfied: keras-applications>=1.0.6 in /usr/local/lib/python3.6/dist-packages (from keras->keras-vggface==0.6) (1.0.8)\n",
            "Requirement already satisfied: keras-preprocessing>=1.0.5 in /usr/local/lib/python3.6/dist-packages (from keras->keras-vggface==0.6) (1.1.0)\n",
            "Building wheels for collected packages: keras-vggface\n",
            "  Building wheel for keras-vggface (setup.py) ... \u001b[?25l\u001b[?25hdone\n",
            "  Created wheel for keras-vggface: filename=keras_vggface-0.6-cp36-none-any.whl size=8311 sha256=22d97d4b07ec12c382b4569ada254b6e7dada10a1c0ff0856258686929151fd6\n",
            "  Stored in directory: /tmp/pip-ephem-wheel-cache-q0_rcocp/wheels/36/07/46/06c25ce8e9cd396dabe151ea1d8a2bc28dafcb11321c1f3a6d\n",
            "Successfully built keras-vggface\n",
            "Installing collected packages: keras-vggface\n",
            "Successfully installed keras-vggface-0.6\n"
          ],
          "name": "stdout"
        }
      ]
    },
    {
      "cell_type": "code",
      "metadata": {
        "id": "Cbm0WVfnMIZa",
        "colab_type": "code",
        "colab": {}
      },
      "source": [
        "import os, shutil\n",
        "\n",
        "\n",
        "base_dir = '/content/drive/My Drive/Colab Notebooks/ctbc'\n",
        "\n",
        "#train dir\n",
        "train_dir = os.path.join(base_dir, 'train')\n",
        "if not os.path.isdir(train_dir): os.mkdir(train_dir)\n",
        "    \n",
        "#validation dir\n",
        "validation_dir = os.path.join(base_dir, 'validation')\n",
        "if not os.path.isdir(validation_dir): os.mkdir(validation_dir)\n",
        "    \n",
        "#test dir\n",
        "test_dir = os.path.join(base_dir, 'test')\n",
        "if not os.path.isdir(test_dir): os.mkdir(test_dir)\n",
        "\n",
        "#TRAIN\n",
        "#angry\n",
        "train_angry_dir = os.path.join(train_dir, 'angry')\n",
        "if not os.path.isdir(train_angry_dir): os.mkdir(train_angry_dir)\n",
        "#disgusted\n",
        "train_disgusted_dir = os.path.join(train_dir, 'disgusted')\n",
        "if not os.path.isdir(train_disgusted_dir): os.mkdir(train_disgusted_dir)\n",
        "#fearful\n",
        "train_fearful_dir = os.path.join(train_dir, 'fearful')\n",
        "if not os.path.isdir(train_fearful_dir): os.mkdir(train_fearful_dir)\n",
        "#happy\n",
        "train_happy_dir = os.path.join(train_dir, 'happy')\n",
        "if not os.path.isdir(train_happy_dir): os.mkdir(train_happy_dir)\n",
        "#neutral\n",
        "train_neutral_dir = os.path.join(train_dir, 'neutral')\n",
        "if not os.path.isdir(train_neutral_dir): os.mkdir(train_neutral_dir)\n",
        "#sad\n",
        "train_sad_dir = os.path.join(train_dir, 'sad')\n",
        "if not os.path.isdir(train_sad_dir): os.mkdir(train_sad_dir)\n",
        "#angry\n",
        "train_surprised_dir = os.path.join(train_dir, 'surprised')\n",
        "if not os.path.isdir(train_surprised_dir): os.mkdir(train_surprised_dir)\n",
        "#worry\n",
        "train_worry_dir = os.path.join(train_dir, 'worry')\n",
        "if not os.path.isdir(train_worry_dir): os.mkdir(train_worry_dir)\n",
        "    \n",
        "#VALIDATION\n",
        "#angry\n",
        "validation_angry_dir = os.path.join(validation_dir, 'angry')\n",
        "if not os.path.isdir(validation_angry_dir): os.mkdir(validation_angry_dir)\n",
        "#disgusted\n",
        "validation_disgusted_dir = os.path.join(validation_dir, 'disgusted')\n",
        "if not os.path.isdir(validation_disgusted_dir): os.mkdir(validation_disgusted_dir)\n",
        "#fearful\n",
        "validation_fearful_dir = os.path.join(validation_dir, 'fearful')\n",
        "if not os.path.isdir(validation_fearful_dir): os.mkdir(validation_fearful_dir)\n",
        "#happy\n",
        "validation_happy_dir = os.path.join(validation_dir, 'happy')\n",
        "if not os.path.isdir(validation_happy_dir): os.mkdir(validation_happy_dir)\n",
        "#neutral\n",
        "validation_neutral_dir = os.path.join(validation_dir, 'neutral')\n",
        "if not os.path.isdir(validation_neutral_dir): os.mkdir(validation_neutral_dir)\n",
        "#sad\n",
        "validation_sad_dir = os.path.join(validation_dir, 'sad')\n",
        "if not os.path.isdir(validation_sad_dir): os.mkdir(validation_sad_dir)\n",
        "#angry\n",
        "validation_surprised_dir = os.path.join(validation_dir, 'surprised')\n",
        "if not os.path.isdir(validation_surprised_dir): os.mkdir(validation_surprised_dir)\n",
        "#worry\n",
        "validation_worry_dir = os.path.join(validation_dir, 'worry')\n",
        "if not os.path.isdir(validation_worry_dir): os.mkdir(validation_worry_dir)\n",
        "    \n",
        "#TEST\n",
        "#angry\n",
        "test_angry_dir = os.path.join(test_dir, 'angry')\n",
        "if not os.path.isdir(test_angry_dir): os.mkdir(test_angry_dir)\n",
        "#disgusted\n",
        "test_disgusted_dir = os.path.join(test_dir, 'disgusted')\n",
        "if not os.path.isdir(test_disgusted_dir): os.mkdir(test_disgusted_dir)\n",
        "#fearful\n",
        "test_fearful_dir = os.path.join(test_dir, 'fearful')\n",
        "if not os.path.isdir(test_fearful_dir): os.mkdir(test_fearful_dir)\n",
        "#happy\n",
        "test_happy_dir = os.path.join(test_dir, 'happy')\n",
        "if not os.path.isdir(test_happy_dir): os.mkdir(test_happy_dir)\n",
        "#neutral\n",
        "test_neutral_dir = os.path.join(test_dir, 'neutral')\n",
        "if not os.path.isdir(test_neutral_dir): os.mkdir(test_neutral_dir)\n",
        "#sad\n",
        "test_sad_dir = os.path.join(test_dir, 'sad')\n",
        "if not os.path.isdir(test_sad_dir): os.mkdir(test_sad_dir)\n",
        "#angry\n",
        "test_surprised_dir = os.path.join(test_dir, 'surprised')\n",
        "if not os.path.isdir(test_surprised_dir): os.mkdir(test_surprised_dir)\n",
        "#worry\n",
        "test_worry_dir = os.path.join(test_dir, 'worry')\n",
        "if not os.path.isdir(test_worry_dir): os.mkdir(test_worry_dir)"
      ],
      "execution_count": 0,
      "outputs": []
    },
    {
      "cell_type": "code",
      "metadata": {
        "id": "96n_OVsbMMqa",
        "colab_type": "code",
        "outputId": "b8b2c9a9-a763-4a81-f544-0e489df61ae7",
        "colab": {
          "base_uri": "https://localhost:8080/",
          "height": 425
        }
      },
      "source": [
        "print(\"==========\")\n",
        "print('train-angry：', len(os.listdir(train_angry_dir)))\n",
        "print('train-disgusted：', len(os.listdir(train_disgusted_dir)))\n",
        "print('train-fearful：', len(os.listdir(train_fearful_dir)))\n",
        "print('train-happy：', len(os.listdir(train_happy_dir)))\n",
        "print('train-neutral：', len(os.listdir(train_neutral_dir)))\n",
        "print('train-sad：', len(os.listdir(train_sad_dir)))\n",
        "print('train-surprised：', len(os.listdir(train_surprised_dir)))\n",
        "print('train-worry：', len(os.listdir(train_worry_dir)))\n",
        "print(\"==========\")\n",
        "print('validation-angry：', len(os.listdir(validation_angry_dir)))\n",
        "print('validation-disgusted：', len(os.listdir(validation_disgusted_dir)))\n",
        "print('validation-fearful：', len(os.listdir(validation_fearful_dir)))\n",
        "print('validation-happy：', len(os.listdir(validation_happy_dir)))\n",
        "print('validation-neutral：', len(os.listdir(validation_neutral_dir)))\n",
        "print('validation-sad：', len(os.listdir(validation_sad_dir)))\n",
        "print('validation-surprised：', len(os.listdir(validation_surprised_dir)))\n",
        "print('validation-worry：', len(os.listdir(validation_worry_dir)))\n",
        "print(\"==========\")\n",
        "print('test-angry：', len(os.listdir(test_angry_dir)))\n",
        "print('test-disgusted：', len(os.listdir(test_disgusted_dir)))\n",
        "print('test-fearful：', len(os.listdir(test_fearful_dir)))\n",
        "print('test-happy：', len(os.listdir(test_happy_dir)))\n",
        "print('test-neutral：', len(os.listdir(test_neutral_dir)))\n",
        "print('test-sad：', len(os.listdir(test_sad_dir)))\n",
        "print('test-surprised：', len(os.listdir(test_surprised_dir)))\n",
        "print('test-worry：', len(os.listdir(test_worry_dir)))"
      ],
      "execution_count": 0,
      "outputs": [
        {
          "output_type": "stream",
          "text": [
            "==========\n",
            "train-angry： 2010\n",
            "train-disgusted： 2030\n",
            "train-fearful： 2000\n",
            "train-happy： 2000\n",
            "train-neutral： 2000\n",
            "train-sad： 2000\n",
            "train-surprised： 2020\n",
            "==========\n",
            "validation-angry： 1000\n",
            "validation-disgusted： 1000\n",
            "validation-fearful： 1000\n",
            "validation-happy： 1000\n",
            "validation-neutral： 1000\n",
            "validation-sad： 1000\n",
            "validation-surprised： 1000\n",
            "==========\n",
            "test-angry： 0\n",
            "test-disgusted： 0\n",
            "test-fearful： 0\n",
            "test-happy： 0\n",
            "test-neutral： 0\n",
            "test-sad： 0\n",
            "test-surprised： 0\n"
          ],
          "name": "stdout"
        }
      ]
    },
    {
      "cell_type": "code",
      "metadata": {
        "id": "JZzUPvNCMQR3",
        "colab_type": "code",
        "outputId": "5eb42960-35ad-4143-ecfa-ab6435ace50f",
        "colab": {
          "base_uri": "https://localhost:8080/",
          "height": 306
        }
      },
      "source": [
        "!/opt/bin/nvidia-smi"
      ],
      "execution_count": 0,
      "outputs": [
        {
          "output_type": "stream",
          "text": [
            "Sat Aug 10 00:56:02 2019       \n",
            "+-----------------------------------------------------------------------------+\n",
            "| NVIDIA-SMI 410.79       Driver Version: 410.79       CUDA Version: 10.0     |\n",
            "|-------------------------------+----------------------+----------------------+\n",
            "| GPU  Name        Persistence-M| Bus-Id        Disp.A | Volatile Uncorr. ECC |\n",
            "| Fan  Temp  Perf  Pwr:Usage/Cap|         Memory-Usage | GPU-Util  Compute M. |\n",
            "|===============================+======================+======================|\n",
            "|   0  Tesla K80           Off  | 00000000:00:04.0 Off |                    0 |\n",
            "| N/A   73C    P8    34W / 149W |      0MiB / 11441MiB |      0%      Default |\n",
            "+-------------------------------+----------------------+----------------------+\n",
            "                                                                               \n",
            "+-----------------------------------------------------------------------------+\n",
            "| Processes:                                                       GPU Memory |\n",
            "|  GPU       PID   Type   Process name                             Usage      |\n",
            "|=============================================================================|\n",
            "|  No running processes found                                                 |\n",
            "+-----------------------------------------------------------------------------+\n"
          ],
          "name": "stdout"
        }
      ]
    },
    {
      "cell_type": "code",
      "metadata": {
        "id": "-3d_RkQ2MT5F",
        "colab_type": "code",
        "outputId": "d6bb9de9-e586-4b42-9152-c95ce9db15bc",
        "colab": {
          "base_uri": "https://localhost:8080/",
          "height": 734
        }
      },
      "source": [
        "#model\n",
        "\n",
        "from keras import layers\n",
        "from keras import models\n",
        "from keras import optimizers\n",
        "from keras.applications import VGG16\n",
        "from keras.applications import vgg16, inception_v3, resnet50\n",
        "from keras_vggface.vggface import VGGFace\n",
        "\n",
        "\n",
        "#base\n",
        "conv_base = VGGFace(model='resnet50', weights='vggface', include_top=False, input_shape=(224, 224, 3), pooling='max')\n",
        "\n",
        "#top\n",
        "model = models.Sequential()\n",
        "model.add(conv_base)\n",
        "#model.add(layers.Flatten())\n",
        "model.add(layers.Dense(128, activation='relu'))\n",
        "model.add(layers.Dropout(0.5))\n",
        "model.add(layers.Dense(8, activation='softmax'))\n",
        "\n",
        "\n",
        "model.compile(loss='categorical_crossentropy', optimizer=optimizers.RMSprop(lr=1e-6), metrics=['acc'])\n",
        "\n",
        "print(model.summary())"
      ],
      "execution_count": 0,
      "outputs": [
        {
          "output_type": "stream",
          "text": [
            "Using TensorFlow backend.\n",
            "WARNING: Logging before flag parsing goes to stderr.\n",
            "W0808 12:05:49.731097 140546888619904 deprecation_wrapper.py:119] From /usr/local/lib/python3.6/dist-packages/keras/backend/tensorflow_backend.py:74: The name tf.get_default_graph is deprecated. Please use tf.compat.v1.get_default_graph instead.\n",
            "\n",
            "W0808 12:05:49.779978 140546888619904 deprecation_wrapper.py:119] From /usr/local/lib/python3.6/dist-packages/keras/backend/tensorflow_backend.py:517: The name tf.placeholder is deprecated. Please use tf.compat.v1.placeholder instead.\n",
            "\n",
            "W0808 12:05:49.790988 140546888619904 deprecation_wrapper.py:119] From /usr/local/lib/python3.6/dist-packages/keras/backend/tensorflow_backend.py:4138: The name tf.random_uniform is deprecated. Please use tf.random.uniform instead.\n",
            "\n",
            "W0808 12:05:49.835386 140546888619904 deprecation_wrapper.py:119] From /usr/local/lib/python3.6/dist-packages/keras/backend/tensorflow_backend.py:174: The name tf.get_default_session is deprecated. Please use tf.compat.v1.get_default_session instead.\n",
            "\n",
            "W0808 12:05:49.836745 140546888619904 deprecation_wrapper.py:119] From /usr/local/lib/python3.6/dist-packages/keras/backend/tensorflow_backend.py:181: The name tf.ConfigProto is deprecated. Please use tf.compat.v1.ConfigProto instead.\n",
            "\n",
            "W0808 12:05:53.291477 140546888619904 deprecation_wrapper.py:119] From /usr/local/lib/python3.6/dist-packages/keras/backend/tensorflow_backend.py:1834: The name tf.nn.fused_batch_norm is deprecated. Please use tf.compat.v1.nn.fused_batch_norm instead.\n",
            "\n",
            "W0808 12:05:53.383423 140546888619904 deprecation_wrapper.py:119] From /usr/local/lib/python3.6/dist-packages/keras/backend/tensorflow_backend.py:3976: The name tf.nn.max_pool is deprecated. Please use tf.nn.max_pool2d instead.\n",
            "\n",
            "W0808 12:05:59.014142 140546888619904 deprecation_wrapper.py:119] From /usr/local/lib/python3.6/dist-packages/keras/backend/tensorflow_backend.py:3980: The name tf.nn.avg_pool is deprecated. Please use tf.nn.avg_pool2d instead.\n",
            "\n"
          ],
          "name": "stderr"
        },
        {
          "output_type": "stream",
          "text": [
            "Downloading data from https://github.com/rcmalli/keras-vggface/releases/download/v2.0/rcmalli_vggface_tf_notop_resnet50.h5\n",
            "94699520/94694792 [==============================] - 9s 0us/step\n"
          ],
          "name": "stdout"
        },
        {
          "output_type": "stream",
          "text": [
            "W0808 12:06:16.912633 140546888619904 deprecation.py:506] From /usr/local/lib/python3.6/dist-packages/keras/backend/tensorflow_backend.py:3445: calling dropout (from tensorflow.python.ops.nn_ops) with keep_prob is deprecated and will be removed in a future version.\n",
            "Instructions for updating:\n",
            "Please use `rate` instead of `keep_prob`. Rate should be set to `rate = 1 - keep_prob`.\n",
            "W0808 12:06:16.963158 140546888619904 deprecation_wrapper.py:119] From /usr/local/lib/python3.6/dist-packages/keras/optimizers.py:790: The name tf.train.Optimizer is deprecated. Please use tf.compat.v1.train.Optimizer instead.\n",
            "\n"
          ],
          "name": "stderr"
        },
        {
          "output_type": "stream",
          "text": [
            "_________________________________________________________________\n",
            "Layer (type)                 Output Shape              Param #   \n",
            "=================================================================\n",
            "vggface_resnet50 (Model)     (None, 2048)              23561152  \n",
            "_________________________________________________________________\n",
            "dense_1 (Dense)              (None, 128)               262272    \n",
            "_________________________________________________________________\n",
            "dropout_1 (Dropout)          (None, 128)               0         \n",
            "_________________________________________________________________\n",
            "dense_2 (Dense)              (None, 8)                 1032      \n",
            "=================================================================\n",
            "Total params: 23,824,456\n",
            "Trainable params: 23,771,336\n",
            "Non-trainable params: 53,120\n",
            "_________________________________________________________________\n",
            "None\n"
          ],
          "name": "stdout"
        }
      ]
    },
    {
      "cell_type": "code",
      "metadata": {
        "id": "Q6YbaIGeM0o5",
        "colab_type": "code",
        "colab": {}
      },
      "source": [
        "num_train = 24009\n",
        "num_val = 8082\n",
        "num_test = 8009\n",
        "batch_size = 64\n",
        "num_epoch = 50"
      ],
      "execution_count": 0,
      "outputs": []
    },
    {
      "cell_type": "code",
      "metadata": {
        "id": "-4J7bCFMM9Ry",
        "colab_type": "code",
        "outputId": "792ce3eb-2129-4eb8-8df8-8673b3fcf812",
        "colab": {
          "base_uri": "https://localhost:8080/",
          "height": 1000
        }
      },
      "source": [
        "#data augmentation\n",
        "from keras.preprocessing.image import ImageDataGenerator\n",
        "import matplotlib.pyplot as plt\n",
        "from collections import Counter\n",
        "from keras import models\n",
        "\n",
        "\n",
        "train_datagen = ImageDataGenerator(rescale= 1. / 255,\n",
        "                        rotation_range=10,\n",
        "                        width_shift_range=0.1,\n",
        "                        height_shift_range=0.1,\n",
        "                        zoom_range=.1,\n",
        "                        horizontal_flip=True)\n",
        "\n",
        "\n",
        "val_datagen = ImageDataGenerator(rescale= 1. / 255)\n",
        "\n",
        "train_generator = train_datagen.flow_from_directory(train_dir, target_size=(224, 224), \n",
        "                                                   batch_size=batch_size, class_mode='categorical', color_mode=\"rgb\")\n",
        "validation_generator = val_datagen.flow_from_directory(validation_dir, target_size=(224, 224), \n",
        "                                                 batch_size=batch_size, class_mode='categorical', color_mode=\"rgb\", shuffle=False )\n",
        "                                   \n",
        "test_generator = val_datagen.flow_from_directory(test_dir, target_size=(224, 224), \n",
        "                                                 batch_size=batch_size, class_mode='categorical', color_mode=\"rgb\", shuffle=False )\n",
        "\n",
        "#set weight\n",
        "counter = Counter(train_generator.classes)\n",
        "#print(counter)\n",
        "max_val = float(max(counter.values()))   \n",
        "#print(max_val)\n",
        "class_weights = {class_id : max_val/num_images for class_id, num_images in counter.items()}\n",
        "#print(class_weights)\n",
        "\n",
        "history = model.fit_generator(train_generator, \n",
        "                              steps_per_epoch = num_train // batch_size, \n",
        "                              epochs= num_epoch, \n",
        "                              validation_data = validation_generator, \n",
        "                              validation_steps = num_val // batch_size,\n",
        "                              class_weight = class_weights)\n",
        "\n",
        "\n",
        "\n",
        "#print(history.history)\n",
        "acc = history.history['acc']\n",
        "val_acc = history.history['val_acc']\n",
        "loss = history.history['loss']\n",
        "val_loss = history.history['val_loss']\n",
        "\n",
        "epochs = range(1, len(acc)+1)\n",
        "\n",
        "plt.plot(epochs, acc, 'bo', label='Training accuracy')\n",
        "plt.plot(epochs, val_acc, 'r', label='Validation accuracy')\n",
        "plt.title('Training and validation accuracy')\n",
        "plt.legend()\n",
        "\n",
        "\n",
        "plt.figure()\n",
        "\n",
        "plt.plot(epochs, loss, 'bo', label='Training loss')\n",
        "plt.plot(epochs, val_loss, 'r', label='Validation loss')\n",
        "plt.title('Training and validation loss')\n",
        "plt.legend()\n",
        "\n",
        "plt.show()"
      ],
      "execution_count": 0,
      "outputs": [
        {
          "output_type": "stream",
          "text": [
            "Found 24009 images belonging to 8 classes.\n",
            "Found 8082 images belonging to 8 classes.\n",
            "Found 8009 images belonging to 8 classes.\n"
          ],
          "name": "stdout"
        },
        {
          "output_type": "stream",
          "text": [
            "W0808 12:07:24.203210 140546888619904 deprecation.py:323] From /usr/local/lib/python3.6/dist-packages/tensorflow/python/ops/math_grad.py:1250: add_dispatch_support.<locals>.wrapper (from tensorflow.python.ops.array_ops) is deprecated and will be removed in a future version.\n",
            "Instructions for updating:\n",
            "Use tf.where in 2.0, which has the same broadcast rule as np.where\n"
          ],
          "name": "stderr"
        },
        {
          "output_type": "stream",
          "text": [
            "Epoch 1/10\n",
            "375/375 [==============================] - 11845s 32s/step - loss: 1.8701 - acc: 0.4507 - val_loss: 0.9704 - val_acc: 0.6687\n",
            "Epoch 2/10\n",
            "375/375 [==============================] - 613s 2s/step - loss: 0.8733 - acc: 0.7064 - val_loss: 0.7877 - val_acc: 0.7513\n",
            "Epoch 3/10\n",
            "375/375 [==============================] - 612s 2s/step - loss: 0.6893 - acc: 0.7729 - val_loss: 0.7661 - val_acc: 0.7649\n",
            "Epoch 4/10\n",
            "375/375 [==============================] - 612s 2s/step - loss: 0.5911 - acc: 0.8051 - val_loss: 0.7574 - val_acc: 0.7688\n",
            "Epoch 5/10\n",
            "375/375 [==============================] - 612s 2s/step - loss: 0.4896 - acc: 0.8390 - val_loss: 0.7475 - val_acc: 0.7831\n",
            "Epoch 6/10\n",
            "375/375 [==============================] - 612s 2s/step - loss: 0.4315 - acc: 0.8579 - val_loss: 0.8190 - val_acc: 0.7765\n",
            "Epoch 7/10\n",
            "375/375 [==============================] - 611s 2s/step - loss: 0.3759 - acc: 0.8772 - val_loss: 0.8971 - val_acc: 0.7699\n",
            "Epoch 8/10\n",
            "375/375 [==============================] - 616s 2s/step - loss: 0.3329 - acc: 0.8921 - val_loss: 0.9047 - val_acc: 0.7802\n",
            "Epoch 9/10\n",
            "375/375 [==============================] - 619s 2s/step - loss: 0.2918 - acc: 0.9052 - val_loss: 0.9882 - val_acc: 0.7714\n",
            "Epoch 10/10\n",
            "375/375 [==============================] - 619s 2s/step - loss: 0.2614 - acc: 0.9154 - val_loss: 1.0380 - val_acc: 0.7809\n"
          ],
          "name": "stdout"
        },
        {
          "output_type": "display_data",
          "data": {
            "image/png": "[encoded data removed]",
            "text/plain": [
              "<Figure size 432x288 with 1 Axes>"
            ]
          },
          "metadata": {
            "tags": []
          }
        },
        {
          "output_type": "display_data",
          "data": {
            "image/png": "[encoded data removed]",
            "text/plain": [
              "<Figure size 432x288 with 1 Axes>"
            ]
          },
          "metadata": {
            "tags": []
          }
        }
      ]
    },
    {
      "cell_type": "code",
      "metadata": {
        "id": "l4ox89xZPJ0O",
        "colab_type": "code",
        "colab": {}
      },
      "source": [
        "model.save('emo0809_vggfaceres_epo10.h5')"
      ],
      "execution_count": 0,
      "outputs": []
    },
    {
      "cell_type": "code",
      "metadata": {
        "id": "rFGWk6KICk2A",
        "colab_type": "code",
        "outputId": "8e3f57ed-3ba6-481b-ea43-8489aa557318",
        "colab": {
          "base_uri": "https://localhost:8080/",
          "height": 396
        }
      },
      "source": [
        "import pandas as pd\n",
        "import numpy as np\n",
        "from keras.utils.data_utils import Sequence\n",
        "from sklearn.metrics import classification_report\n",
        "\n",
        "# shuffle=False \n",
        "test_generator.reset()\n",
        "prediction=new_model.predict_generator(test_generator,  num_test / batch_size )\n",
        "\n",
        "predict_label=np.argmax(prediction,axis=1)\n",
        "print(predict_label)\n",
        "print(len(predict_label))\n",
        "\n",
        "true_label=test_generator.classes\n",
        "#3872\n",
        "#print(true_label[:40])\n",
        "print(len(true_label))\n",
        "\n",
        "print(test_generator.class_indices)\n",
        "\n",
        "pd.crosstab(true_label, predict_label, rownames=['label'], colnames=['predict'])\n",
        "\n"
      ],
      "execution_count": 0,
      "outputs": [
        {
          "output_type": "stream",
          "text": [
            "[0 0 0 ... 7 4 7]\n",
            "8009\n",
            "8009\n",
            "{'angry': 0, 'disgusted': 1, 'fearful': 2, 'happy': 3, 'neutral': 4, 'sad': 5, 'surprised': 6, 'worry': 7}\n"
          ],
          "name": "stdout"
        },
        {
          "output_type": "execute_result",
          "data": {
            "text/html": [
              "<div>\n",
              "<style scoped>\n",
              "    .dataframe tbody tr th:only-of-type {\n",
              "        vertical-align: middle;\n",
              "    }\n",
              "\n",
              "    .dataframe tbody tr th {\n",
              "        vertical-align: top;\n",
              "    }\n",
              "\n",
              "    .dataframe thead th {\n",
              "        text-align: right;\n",
              "    }\n",
              "</style>\n",
              "<table border=\"1\" class=\"dataframe\">\n",
              "  <thead>\n",
              "    <tr style=\"text-align: right;\">\n",
              "      <th>predict</th>\n",
              "      <th>0</th>\n",
              "      <th>1</th>\n",
              "      <th>2</th>\n",
              "      <th>3</th>\n",
              "      <th>4</th>\n",
              "      <th>5</th>\n",
              "      <th>6</th>\n",
              "      <th>7</th>\n",
              "    </tr>\n",
              "    <tr>\n",
              "      <th>label</th>\n",
              "      <th></th>\n",
              "      <th></th>\n",
              "      <th></th>\n",
              "      <th></th>\n",
              "      <th></th>\n",
              "      <th></th>\n",
              "      <th></th>\n",
              "      <th></th>\n",
              "    </tr>\n",
              "  </thead>\n",
              "  <tbody>\n",
              "    <tr>\n",
              "      <th>0</th>\n",
              "      <td>760</td>\n",
              "      <td>92</td>\n",
              "      <td>11</td>\n",
              "      <td>10</td>\n",
              "      <td>31</td>\n",
              "      <td>29</td>\n",
              "      <td>32</td>\n",
              "      <td>35</td>\n",
              "    </tr>\n",
              "    <tr>\n",
              "      <th>1</th>\n",
              "      <td>142</td>\n",
              "      <td>645</td>\n",
              "      <td>3</td>\n",
              "      <td>11</td>\n",
              "      <td>89</td>\n",
              "      <td>44</td>\n",
              "      <td>10</td>\n",
              "      <td>56</td>\n",
              "    </tr>\n",
              "    <tr>\n",
              "      <th>2</th>\n",
              "      <td>17</td>\n",
              "      <td>27</td>\n",
              "      <td>584</td>\n",
              "      <td>4</td>\n",
              "      <td>29</td>\n",
              "      <td>217</td>\n",
              "      <td>115</td>\n",
              "      <td>16</td>\n",
              "    </tr>\n",
              "    <tr>\n",
              "      <th>3</th>\n",
              "      <td>3</td>\n",
              "      <td>9</td>\n",
              "      <td>1</td>\n",
              "      <td>919</td>\n",
              "      <td>40</td>\n",
              "      <td>10</td>\n",
              "      <td>18</td>\n",
              "      <td>0</td>\n",
              "    </tr>\n",
              "    <tr>\n",
              "      <th>4</th>\n",
              "      <td>10</td>\n",
              "      <td>46</td>\n",
              "      <td>0</td>\n",
              "      <td>33</td>\n",
              "      <td>829</td>\n",
              "      <td>51</td>\n",
              "      <td>9</td>\n",
              "      <td>22</td>\n",
              "    </tr>\n",
              "    <tr>\n",
              "      <th>5</th>\n",
              "      <td>16</td>\n",
              "      <td>34</td>\n",
              "      <td>31</td>\n",
              "      <td>15</td>\n",
              "      <td>134</td>\n",
              "      <td>740</td>\n",
              "      <td>11</td>\n",
              "      <td>19</td>\n",
              "    </tr>\n",
              "    <tr>\n",
              "      <th>6</th>\n",
              "      <td>20</td>\n",
              "      <td>8</td>\n",
              "      <td>42</td>\n",
              "      <td>22</td>\n",
              "      <td>24</td>\n",
              "      <td>2</td>\n",
              "      <td>872</td>\n",
              "      <td>10</td>\n",
              "    </tr>\n",
              "    <tr>\n",
              "      <th>7</th>\n",
              "      <td>28</td>\n",
              "      <td>45</td>\n",
              "      <td>18</td>\n",
              "      <td>0</td>\n",
              "      <td>15</td>\n",
              "      <td>5</td>\n",
              "      <td>5</td>\n",
              "      <td>884</td>\n",
              "    </tr>\n",
              "  </tbody>\n",
              "</table>\n",
              "</div>"
            ],
            "text/plain": [
              "predict    0    1    2    3    4    5    6    7\n",
              "label                                          \n",
              "0        760   92   11   10   31   29   32   35\n",
              "1        142  645    3   11   89   44   10   56\n",
              "2         17   27  584    4   29  217  115   16\n",
              "3          3    9    1  919   40   10   18    0\n",
              "4         10   46    0   33  829   51    9   22\n",
              "5         16   34   31   15  134  740   11   19\n",
              "6         20    8   42   22   24    2  872   10\n",
              "7         28   45   18    0   15    5    5  884"
            ]
          },
          "metadata": {
            "tags": []
          },
          "execution_count": 50
        }
      ]
    }
  ]
}