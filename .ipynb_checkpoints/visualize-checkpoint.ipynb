{
 "cells": [
  {
   "cell_type": "code",
   "execution_count": 2,
   "metadata": {},
   "outputs": [],
   "source": [
    "import os, shutil\n",
    "\n",
    "\n",
    "base_dir = '/Users/mingshenglyu/Desktop/ctbc'\n",
    "\n",
    "#train dir\n",
    "train_dir = os.path.join(base_dir, 'train')\n",
    "if not os.path.isdir(train_dir): os.mkdir(train_dir)\n",
    "    \n",
    "#validation dir\n",
    "validation_dir = os.path.join(base_dir, 'validation')\n",
    "if not os.path.isdir(validation_dir): os.mkdir(validation_dir)\n",
    "    \n",
    "#test dir\n",
    "test_dir = os.path.join(base_dir, 'test')\n",
    "if not os.path.isdir(test_dir): os.mkdir(test_dir)\n",
    "\n",
    "#TRAIN\n",
    "#angry\n",
    "train_angry_dir = os.path.join(train_dir, 'angry')\n",
    "if not os.path.isdir(train_angry_dir): os.mkdir(train_angry_dir)\n",
    "#disgusted\n",
    "train_disgusted_dir = os.path.join(train_dir, 'disgusted')\n",
    "if not os.path.isdir(train_disgusted_dir): os.mkdir(train_disgusted_dir)\n",
    "#fearful\n",
    "train_fearful_dir = os.path.join(train_dir, 'fearful')\n",
    "if not os.path.isdir(train_fearful_dir): os.mkdir(train_fearful_dir)\n",
    "#happy\n",
    "train_happy_dir = os.path.join(train_dir, 'happy')\n",
    "if not os.path.isdir(train_happy_dir): os.mkdir(train_happy_dir)\n",
    "#neutral\n",
    "train_neutral_dir = os.path.join(train_dir, 'neutral')\n",
    "if not os.path.isdir(train_neutral_dir): os.mkdir(train_neutral_dir)\n",
    "#sad\n",
    "train_sad_dir = os.path.join(train_dir, 'sad')\n",
    "if not os.path.isdir(train_sad_dir): os.mkdir(train_sad_dir)\n",
    "#angry\n",
    "train_surprised_dir = os.path.join(train_dir, 'surprised')\n",
    "if not os.path.isdir(train_surprised_dir): os.mkdir(train_surprised_dir)\n",
    "#worry\n",
    "train_worry_dir = os.path.join(train_dir, 'worry')\n",
    "if not os.path.isdir(train_worry_dir): os.mkdir(train_worry_dir)\n",
    "    \n",
    "#VALIDATION\n",
    "#angry\n",
    "validation_angry_dir = os.path.join(validation_dir, 'angry')\n",
    "if not os.path.isdir(validation_angry_dir): os.mkdir(validation_angry_dir)\n",
    "#disgusted\n",
    "validation_disgusted_dir = os.path.join(validation_dir, 'disgusted')\n",
    "if not os.path.isdir(validation_disgusted_dir): os.mkdir(validation_disgusted_dir)\n",
    "#fearful\n",
    "validation_fearful_dir = os.path.join(validation_dir, 'fearful')\n",
    "if not os.path.isdir(validation_fearful_dir): os.mkdir(validation_fearful_dir)\n",
    "#happy\n",
    "validation_happy_dir = os.path.join(validation_dir, 'happy')\n",
    "if not os.path.isdir(validation_happy_dir): os.mkdir(validation_happy_dir)\n",
    "#neutral\n",
    "validation_neutral_dir = os.path.join(validation_dir, 'neutral')\n",
    "if not os.path.isdir(validation_neutral_dir): os.mkdir(validation_neutral_dir)\n",
    "#sad\n",
    "validation_sad_dir = os.path.join(validation_dir, 'sad')\n",
    "if not os.path.isdir(validation_sad_dir): os.mkdir(validation_sad_dir)\n",
    "#angry\n",
    "validation_surprised_dir = os.path.join(validation_dir, 'surprised')\n",
    "if not os.path.isdir(validation_surprised_dir): os.mkdir(validation_surprised_dir)\n",
    "#worry\n",
    "validation_worry_dir = os.path.join(validation_dir, 'worry')\n",
    "if not os.path.isdir(validation_worry_dir): os.mkdir(validation_worry_dir)\n",
    "    \n",
    "#TEST\n",
    "#angry\n",
    "test_angry_dir = os.path.join(test_dir, 'angry')\n",
    "if not os.path.isdir(test_angry_dir): os.mkdir(test_angry_dir)\n",
    "#disgusted\n",
    "test_disgusted_dir = os.path.join(test_dir, 'disgusted')\n",
    "if not os.path.isdir(test_disgusted_dir): os.mkdir(test_disgusted_dir)\n",
    "#fearful\n",
    "test_fearful_dir = os.path.join(test_dir, 'fearful')\n",
    "if not os.path.isdir(test_fearful_dir): os.mkdir(test_fearful_dir)\n",
    "#happy\n",
    "test_happy_dir = os.path.join(test_dir, 'happy')\n",
    "if not os.path.isdir(test_happy_dir): os.mkdir(test_happy_dir)\n",
    "#neutral\n",
    "test_neutral_dir = os.path.join(test_dir, 'neutral')\n",
    "if not os.path.isdir(test_neutral_dir): os.mkdir(test_neutral_dir)\n",
    "#sad\n",
    "test_sad_dir = os.path.join(test_dir, 'sad')\n",
    "if not os.path.isdir(test_sad_dir): os.mkdir(test_sad_dir)\n",
    "#angry\n",
    "test_surprised_dir = os.path.join(test_dir, 'surprised')\n",
    "if not os.path.isdir(test_surprised_dir): os.mkdir(test_surprised_dir)\n",
    "#worry\n",
    "test_worry_dir = os.path.join(test_dir, 'worry')\n",
    "if not os.path.isdir(test_worry_dir): os.mkdir(test_worry_dir)"
   ]
  },
  {
   "cell_type": "code",
   "execution_count": 4,
   "metadata": {},
   "outputs": [
    {
     "name": "stdout",
     "output_type": "stream",
     "text": [
      "Found 24000 images belonging to 8 classes.\n",
      "Found 8073 images belonging to 8 classes.\n",
      "Found 8000 images belonging to 8 classes.\n"
     ]
    }
   ],
   "source": [
    "from keras.preprocessing.image import ImageDataGenerator\n",
    "\n",
    "num_train = 24000\n",
    "num_val = 8073\n",
    "num_test = 8000\n",
    "batch_size = 64\n",
    "num_epoch = 50\n",
    "\n",
    "train_datagen = ImageDataGenerator(rescale= 1. / 255,\n",
    "                        featurewise_center=False,\n",
    "                        featurewise_std_normalization=False,\n",
    "                        rotation_range=10,\n",
    "                        width_shift_range=0.1,\n",
    "                        height_shift_range=0.1,\n",
    "                        zoom_range=.1,\n",
    "                        horizontal_flip=True)\n",
    "val_datagen = ImageDataGenerator(rescale= 1. / 255)\n",
    "\n",
    "train_generator = train_datagen.flow_from_directory(train_dir, target_size=(224, 224), \n",
    "                                                   batch_size=batch_size, class_mode='categorical', color_mode=\"rgb\")\n",
    "validation_generator = val_datagen.flow_from_directory(validation_dir, target_size=(224, 224), \n",
    "                                                 batch_size=batch_size, class_mode='categorical', color_mode=\"rgb\",shuffle=False )\n",
    "test_generator = val_datagen.flow_from_directory(test_dir, target_size=(224, 224), \n",
    "                                                 batch_size=batch_size, class_mode='categorical', color_mode=\"rgb\",shuffle=False )"
   ]
  },
  {
   "cell_type": "code",
   "execution_count": 1,
   "metadata": {},
   "outputs": [
    {
     "name": "stderr",
     "output_type": "stream",
     "text": [
      "/Users/mingshenglyu/miniconda3/envs/hello/lib/python3.5/site-packages/h5py/__init__.py:36: FutureWarning: Conversion of the second argument of issubdtype from `float` to `np.floating` is deprecated. In future, it will be treated as `np.float64 == np.dtype(float).type`.\n",
      "  from ._conv import register_converters as _register_converters\n",
      "Using TensorFlow backend.\n"
     ]
    },
    {
     "name": "stdout",
     "output_type": "stream",
     "text": [
      "WARNING:tensorflow:From /Users/mingshenglyu/miniconda3/envs/hello/lib/python3.5/site-packages/tensorflow/python/framework/op_def_library.py:263: colocate_with (from tensorflow.python.framework.ops) is deprecated and will be removed in a future version.\n",
      "Instructions for updating:\n",
      "Colocations handled automatically by placer.\n",
      "WARNING:tensorflow:From /Users/mingshenglyu/miniconda3/envs/hello/lib/python3.5/site-packages/keras/backend/tensorflow_backend.py:3445: calling dropout (from tensorflow.python.ops.nn_ops) with keep_prob is deprecated and will be removed in a future version.\n",
      "Instructions for updating:\n",
      "Please use `rate` instead of `keep_prob`. Rate should be set to `rate = 1 - keep_prob`.\n",
      "WARNING:tensorflow:From /Users/mingshenglyu/miniconda3/envs/hello/lib/python3.5/site-packages/tensorflow/python/ops/math_ops.py:3066: to_int32 (from tensorflow.python.ops.math_ops) is deprecated and will be removed in a future version.\n",
      "Instructions for updating:\n",
      "Use tf.cast instead.\n",
      "WARNING:tensorflow:From /Users/mingshenglyu/miniconda3/envs/hello/lib/python3.5/site-packages/tensorflow/python/ops/math_grad.py:102: div (from tensorflow.python.ops.math_ops) is deprecated and will be removed in a future version.\n",
      "Instructions for updating:\n",
      "Deprecated in favor of operator or tf.math.divide.\n"
     ]
    }
   ],
   "source": [
    "#load model\n",
    "import pandas as pd\n",
    "import numpy as np\n",
    "from keras.preprocessing.image import ImageDataGenerator\n",
    "import matplotlib.pyplot as plt\n",
    "from keras import models\n",
    "\n",
    "model = models.load_model('/Users/mingshenglyu/Desktop/0809/lr6/emo0809_epo50lr6.h5')"
   ]
  },
  {
   "cell_type": "code",
   "execution_count": null,
   "metadata": {},
   "outputs": [],
   "source": [
    "prediction=model.predict_generator(test_generator, num_test /  batch_size  )\n",
    "\n",
    "predict_label=np.argmax(prediction,axis=1)\n",
    "print(predict_label)\n",
    "print(len(predict_label))\n",
    "\n",
    "true_label=test_generator.classes\n",
    "#3872\n",
    "#print(true_label[:40])\n",
    "print(len(true_label))\n",
    "\n",
    "print(test_generator.class_indices)\n",
    "\n",
    "pd.crosstab(true_label, predict_label, rownames=['label'], colnames=['predict'])"
   ]
  },
  {
   "cell_type": "code",
   "execution_count": 15,
   "metadata": {},
   "outputs": [
    {
     "name": "stdout",
     "output_type": "stream",
     "text": [
      "Confusion Matrix\n"
     ]
    },
    {
     "ename": "ValueError",
     "evalue": "Found input variables with inconsistent numbers of samples: [8000, 8064]",
     "output_type": "error",
     "traceback": [
      "\u001b[0;31m---------------------------------------------------------------------------\u001b[0m",
      "\u001b[0;31mValueError\u001b[0m                                Traceback (most recent call last)",
      "\u001b[0;32m<ipython-input-15-6742bfd2f039>\u001b[0m in \u001b[0;36m<module>\u001b[0;34m()\u001b[0m\n\u001b[1;32m      4\u001b[0m \u001b[0my_pred\u001b[0m \u001b[0;34m=\u001b[0m \u001b[0mnp\u001b[0m\u001b[0;34m.\u001b[0m\u001b[0margmax\u001b[0m\u001b[0;34m(\u001b[0m\u001b[0mY_pred\u001b[0m\u001b[0;34m,\u001b[0m \u001b[0maxis\u001b[0m\u001b[0;34m=\u001b[0m\u001b[0;36m1\u001b[0m\u001b[0;34m)\u001b[0m\u001b[0;34m\u001b[0m\u001b[0m\n\u001b[1;32m      5\u001b[0m \u001b[0mprint\u001b[0m\u001b[0;34m(\u001b[0m\u001b[0;34m'Confusion Matrix'\u001b[0m\u001b[0;34m)\u001b[0m\u001b[0;34m\u001b[0m\u001b[0m\n\u001b[0;32m----> 6\u001b[0;31m \u001b[0mprint\u001b[0m\u001b[0;34m(\u001b[0m\u001b[0mconfusion_matrix\u001b[0m\u001b[0;34m(\u001b[0m\u001b[0mtest_generator\u001b[0m\u001b[0;34m.\u001b[0m\u001b[0mclasses\u001b[0m\u001b[0;34m,\u001b[0m \u001b[0my_pred\u001b[0m\u001b[0;34m)\u001b[0m\u001b[0;34m)\u001b[0m\u001b[0;34m\u001b[0m\u001b[0m\n\u001b[0m\u001b[1;32m      7\u001b[0m \u001b[0mprint\u001b[0m\u001b[0;34m(\u001b[0m\u001b[0;34m'Classification Report'\u001b[0m\u001b[0;34m)\u001b[0m\u001b[0;34m\u001b[0m\u001b[0m\n\u001b[1;32m      8\u001b[0m \u001b[0mtarget_names\u001b[0m \u001b[0;34m=\u001b[0m \u001b[0;34m[\u001b[0m \u001b[0;34m\"Angry\"\u001b[0m\u001b[0;34m,\u001b[0m \u001b[0;34m\"Disgusted\"\u001b[0m\u001b[0;34m,\u001b[0m \u001b[0;34m\"Fearful\"\u001b[0m\u001b[0;34m,\u001b[0m \u001b[0;34m\"Happy\"\u001b[0m\u001b[0;34m,\u001b[0m \u001b[0;34m\"Neutral\"\u001b[0m\u001b[0;34m,\u001b[0m \u001b[0;34m\"Sad\"\u001b[0m\u001b[0;34m,\u001b[0m \u001b[0;34m\"Surprised\"\u001b[0m\u001b[0;34m,\u001b[0m \u001b[0;34m\"Worry\"\u001b[0m\u001b[0;34m]\u001b[0m\u001b[0;34m\u001b[0m\u001b[0m\n",
      "\u001b[0;32m~/miniconda3/envs/hello/lib/python3.5/site-packages/sklearn/metrics/classification.py\u001b[0m in \u001b[0;36mconfusion_matrix\u001b[0;34m(y_true, y_pred, labels, sample_weight)\u001b[0m\n\u001b[1;32m    251\u001b[0m \u001b[0;34m\u001b[0m\u001b[0m\n\u001b[1;32m    252\u001b[0m     \"\"\"\n\u001b[0;32m--> 253\u001b[0;31m     \u001b[0my_type\u001b[0m\u001b[0;34m,\u001b[0m \u001b[0my_true\u001b[0m\u001b[0;34m,\u001b[0m \u001b[0my_pred\u001b[0m \u001b[0;34m=\u001b[0m \u001b[0m_check_targets\u001b[0m\u001b[0;34m(\u001b[0m\u001b[0my_true\u001b[0m\u001b[0;34m,\u001b[0m \u001b[0my_pred\u001b[0m\u001b[0;34m)\u001b[0m\u001b[0;34m\u001b[0m\u001b[0m\n\u001b[0m\u001b[1;32m    254\u001b[0m     \u001b[0;32mif\u001b[0m \u001b[0my_type\u001b[0m \u001b[0;32mnot\u001b[0m \u001b[0;32min\u001b[0m \u001b[0;34m(\u001b[0m\u001b[0;34m\"binary\"\u001b[0m\u001b[0;34m,\u001b[0m \u001b[0;34m\"multiclass\"\u001b[0m\u001b[0;34m)\u001b[0m\u001b[0;34m:\u001b[0m\u001b[0;34m\u001b[0m\u001b[0m\n\u001b[1;32m    255\u001b[0m         \u001b[0;32mraise\u001b[0m \u001b[0mValueError\u001b[0m\u001b[0;34m(\u001b[0m\u001b[0;34m\"%s is not supported\"\u001b[0m \u001b[0;34m%\u001b[0m \u001b[0my_type\u001b[0m\u001b[0;34m)\u001b[0m\u001b[0;34m\u001b[0m\u001b[0m\n",
      "\u001b[0;32m~/miniconda3/envs/hello/lib/python3.5/site-packages/sklearn/metrics/classification.py\u001b[0m in \u001b[0;36m_check_targets\u001b[0;34m(y_true, y_pred)\u001b[0m\n\u001b[1;32m     69\u001b[0m     \u001b[0my_pred\u001b[0m \u001b[0;34m:\u001b[0m \u001b[0marray\u001b[0m \u001b[0;32mor\u001b[0m \u001b[0mindicator\u001b[0m \u001b[0mmatrix\u001b[0m\u001b[0;34m\u001b[0m\u001b[0m\n\u001b[1;32m     70\u001b[0m     \"\"\"\n\u001b[0;32m---> 71\u001b[0;31m     \u001b[0mcheck_consistent_length\u001b[0m\u001b[0;34m(\u001b[0m\u001b[0my_true\u001b[0m\u001b[0;34m,\u001b[0m \u001b[0my_pred\u001b[0m\u001b[0;34m)\u001b[0m\u001b[0;34m\u001b[0m\u001b[0m\n\u001b[0m\u001b[1;32m     72\u001b[0m     \u001b[0mtype_true\u001b[0m \u001b[0;34m=\u001b[0m \u001b[0mtype_of_target\u001b[0m\u001b[0;34m(\u001b[0m\u001b[0my_true\u001b[0m\u001b[0;34m)\u001b[0m\u001b[0;34m\u001b[0m\u001b[0m\n\u001b[1;32m     73\u001b[0m     \u001b[0mtype_pred\u001b[0m \u001b[0;34m=\u001b[0m \u001b[0mtype_of_target\u001b[0m\u001b[0;34m(\u001b[0m\u001b[0my_pred\u001b[0m\u001b[0;34m)\u001b[0m\u001b[0;34m\u001b[0m\u001b[0m\n",
      "\u001b[0;32m~/miniconda3/envs/hello/lib/python3.5/site-packages/sklearn/utils/validation.py\u001b[0m in \u001b[0;36mcheck_consistent_length\u001b[0;34m(*arrays)\u001b[0m\n\u001b[1;32m    228\u001b[0m     \u001b[0;32mif\u001b[0m \u001b[0mlen\u001b[0m\u001b[0;34m(\u001b[0m\u001b[0muniques\u001b[0m\u001b[0;34m)\u001b[0m \u001b[0;34m>\u001b[0m \u001b[0;36m1\u001b[0m\u001b[0;34m:\u001b[0m\u001b[0;34m\u001b[0m\u001b[0m\n\u001b[1;32m    229\u001b[0m         raise ValueError(\"Found input variables with inconsistent numbers of\"\n\u001b[0;32m--> 230\u001b[0;31m                          \" samples: %r\" % [int(l) for l in lengths])\n\u001b[0m\u001b[1;32m    231\u001b[0m \u001b[0;34m\u001b[0m\u001b[0m\n\u001b[1;32m    232\u001b[0m \u001b[0;34m\u001b[0m\u001b[0m\n",
      "\u001b[0;31mValueError\u001b[0m: Found input variables with inconsistent numbers of samples: [8000, 8064]"
     ]
    }
   ],
   "source": [
    "from sklearn.metrics import confusion_matrix, classification_report\n",
    "\n",
    "Y_pred = model.predict_generator(test_generator, num_test // batch_size +1)\n",
    "y_pred = np.argmax(Y_pred, axis=1)\n",
    "print('Confusion Matrix')\n",
    "print(confusion_matrix(test_generator.classes, y_pred))\n",
    "print('Classification Report')\n",
    "target_names = [ \"Angry\", \"Disgusted\", \"Fearful\", \"Happy\", \"Neutral\", \"Sad\", \"Surprised\", \"Worry\"]\n",
    "print(classification_report(test_generator.classes, y_pred, target_names=target_names))"
   ]
  },
  {
   "cell_type": "code",
   "execution_count": 3,
   "metadata": {},
   "outputs": [
    {
     "data": {
      "text/plain": [
       "[0, 0, 0, 0, 0, 0, 0, 0]"
      ]
     },
     "execution_count": 3,
     "metadata": {},
     "output_type": "execute_result"
    }
   ],
   "source": [
    "emotion_dict = {0: \"Angry\", 1: \"Disgusted\", 2: \"Fearful\", 3: \"Happy\", 4: \"Neutral\", 5: \"Sad\", 6: \"Surprised\", 7: \"Worry\"}\n",
    "emotion_list=[0] * len(emotion_dict)\n",
    "emotion_list"
   ]
  },
  {
   "cell_type": "code",
   "execution_count": null,
   "metadata": {},
   "outputs": [],
   "source": []
  }
 ],
 "metadata": {
  "kernelspec": {
   "display_name": "Python 3",
   "language": "python",
   "name": "python3"
  },
  "language_info": {
   "codemirror_mode": {
    "name": "ipython",
    "version": 3
   },
   "file_extension": ".py",
   "mimetype": "text/x-python",
   "name": "python",
   "nbconvert_exporter": "python",
   "pygments_lexer": "ipython3",
   "version": "3.5.4"
  }
 },
 "nbformat": 4,
 "nbformat_minor": 2
}
